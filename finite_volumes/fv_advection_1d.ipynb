{
 "cells": [
  {
   "cell_type": "markdown",
   "metadata": {},
   "source": [
    "<div style='background-image: url(\"../../share/images/header.svg\") ; padding: 0px ; background-size: cover ; border-radius: 5px ; height: 250px'>\n",
    "    <div style=\"float: right ; margin: 50px ; padding: 20px ; background: rgba(255 , 255 , 255 , 0.7) ; width: 50% ; height: 150px\">\n",
    "        <div style=\"position: relative ; top: 50% ; transform: translatey(-50%)\">\n",
    "            <div style=\"font-size: xx-large ; font-weight: 900 ; color: rgba(0 , 0 , 0 , 0.8) ; line-height: 100%\">Computational Seismology</div>\n",
    "            <div style=\"font-size: large ; padding-top: 20px ; color: rgba(0 , 0 , 0 , 0.5)\">Finite Volume Method - 1D Advection Equation</div>\n",
    "        </div>\n",
    "    </div>\n",
    "</div>"
   ]
  },
  {
   "cell_type": "markdown",
   "metadata": {},
   "source": [
    "Seismo-Live: http://seismo-live.org\n",
    "\n",
    "##### Authors:\n",
    "* David Vargas ([@dvargas](https://github.com/davofis))\n",
    "* Heiner Igel ([@heinerigel](https://github.com/heinerigel))"
   ]
  },
  {
   "cell_type": "markdown",
   "metadata": {},
   "source": [
    "## Basic Equations\n",
    "We want to solve the linear advection equation as a scalar hyperbolic equation:\n",
    "\n",
    "\\begin{equation}\n",
    "\\partial_t q + a \\partial_x q = 0\n",
    "\\end{equation}\n",
    "\n",
    "This equation arises from conservation principles considering the case of advective fluxes. Let us partitioned the space in $n$ cells centered at $x = x_i$, the average of the quantity $q$ inside the cell is \n",
    "\n",
    "\\begin{equation}\n",
    "Q_{i}^{n} = \\int_{\\mathscr{c}} q(x,t) dx\n",
    "\\end{equation}\n",
    "\n",
    "Any change inside each cell implies a net flux through the cell boundaries, then\n",
    "\n",
    "\\begin{equation}\n",
    "\\frac{Q_{i}^{n+1} - Q_{i}^{n}}{dt} = \\frac{F_{i-1/2}^{n} - F_{i+1/2}^{n}}{dx}\n",
    "\\end{equation}\n",
    "\n",
    "in an advection problem, the flux terms simply are\n",
    "\n",
    "\\begin{equation}\n",
    "F_{i-1/2}^{n} =  a Q_{i-1}^{n}\n",
    "\\qquad\\text{and}\\qquad\n",
    "F_{i+1/2}^{n} =  a Q_{i}^{n}\n",
    "\\end{equation}\n",
    "\n",
    "Using the above definitions we obtain a complete discrete extrapolation scheme as\n",
    "\n",
    "\\begin{equation}\n",
    "Q_{i}^{n+1}  = Q_{i}^{n} + a \\frac{dt}{dx}(Q_{i-1}^{n} - Q_{i}^{n})\n",
    "\\end{equation}\n",
    "\n",
    "This is the so call upwind scheme. Alternatively, one uses the Taylor expansion to extrapolate $Q(x, t)$ in time. Successive differentiation of the advection equation allows us to express time derivatives in terms of space derivatives. Finally, finite differences are used to approximate space derivatives leading to the Lax-Wendroff Scheme.\n",
    "\n",
    "\\begin{equation}\n",
    "Q_{i}^{n+1}  = Q_{i}^{n} - \\frac{adt}{2dx}(Q_{i+1}^{n} - Q_{i-1}^{n}) + \\frac{1}{2}(\\frac{adt}{dx})^2(Q_{i+1}^{n} - 2Q_{i}^{n} + Q_{i-1}^{n})\n",
    "\\end{equation} \n",
    "\n",
    "\n",
    "This notebook implements both upwind and Lax-Wendroff schemes for solving the scalar advection equation. To keep the problem simple we use as spatial initial condition a Gauss function with half-width $\\sigma$\n",
    "\n",
    "\\begin{equation}\n",
    "Q(x,t=0)  = e^{-1/\\sigma^2 (x - x_{o})^2}\n",
    "\\end{equation}\n"
   ]
  },
  {
   "cell_type": "code",
   "execution_count": null,
   "metadata": {
    "collapsed": true
   },
   "outputs": [],
   "source": [
    "# Import all necessary libraries, this is a configuration step for the exercise.\n",
    "# Please run it before the simulation code!\n",
    "import numpy as np\n",
    "import matplotlib.pyplot as plt\n",
    "import matplotlib.animation as animation\n",
    "\n",
    "# Show the plots in the Notebook.\n",
    "plt.switch_backend(\"nbagg\")"
   ]
  },
  {
   "cell_type": "markdown",
   "metadata": {},
   "source": [
    "### 1. Initialization of setup"
   ]
  },
  {
   "cell_type": "code",
   "execution_count": null,
   "metadata": {
    "collapsed": true
   },
   "outputs": [],
   "source": [
    "# Initialization of setup\n",
    "# --------------------------------------------------------------------------\n",
    "nx     = 2000       # number of grid points\n",
    "xmax   = 8000       # in m\n",
    "c      = 2500       # Advected speed\n",
    "eps    = 0.5        # CFL\n",
    "tmax   = 2          # simulation time in s\n",
    "sig    = 200        # Gaussian width, in m\n",
    "x0     = 1000       # Gaussian position, in m\n",
    "method = 'Lax-Wendroff'   # 'Lax-Wendroff', 'upwind'\n",
    "isnap  = 10 "
   ]
  },
  {
   "cell_type": "markdown",
   "metadata": {},
   "source": [
    "### 2. Finite Volumes setup"
   ]
  },
  {
   "cell_type": "code",
   "execution_count": null,
   "metadata": {
    "collapsed": false
   },
   "outputs": [],
   "source": [
    "# Initialize Space\n",
    "x  = np.linspace(0,xmax,nx)\n",
    "dx = min(np.diff(x))\n",
    "\n",
    "# use wave based CFL criterion\n",
    "dt = eps*dx/c    # calculate tim step from stability criterion\n",
    "\n",
    "# Simulation time\n",
    "nt = int(np.floor(tmax/dt))\n",
    "\n",
    "# Initialize shape of fields\n",
    "Q   = np.zeros(nx)\n",
    "dQ  = np.zeros(nx)\n",
    "dQ1 = np.zeros(nx)\n",
    "dQ2 = np.zeros(nx)\n",
    "Qa  = np.zeros(nx)"
   ]
  },
  {
   "cell_type": "markdown",
   "metadata": {},
   "source": [
    "### 3. Initial condition"
   ]
  },
  {
   "cell_type": "code",
   "execution_count": null,
   "metadata": {
    "collapsed": false
   },
   "outputs": [],
   "source": [
    "# Spatial initial condition\n",
    "#---------------------------------------------------------------\n",
    "sx = np.exp(-1./sig**2 * (x-x0)**2)\n",
    "\n",
    "# Set Initial condition \n",
    "Q = sx\n",
    "\n",
    "# ---------------------------------------------------------------\n",
    "# Plot initial condition\n",
    "# ---------------------------------------------------------------\n",
    "plt.plot(x, sx, color='b', lw=2, label='Initial condition')\n",
    "plt.ylabel('Amplitude', size=16)\n",
    "plt.xlabel('x', size=16)\n",
    "plt.legend()\n",
    "plt.grid(True)\n",
    "plt.show()"
   ]
  },
  {
   "cell_type": "markdown",
   "metadata": {},
   "source": [
    "### 4. Solution for the scalar advection problem"
   ]
  },
  {
   "cell_type": "code",
   "execution_count": null,
   "metadata": {
    "code_folding": [
     39
    ],
    "collapsed": false
   },
   "outputs": [],
   "source": [
    "# ---------------------------------------------------------------\n",
    "# Initialize animated plot\n",
    "# ---------------------------------------------------------------\n",
    "fig = plt.figure(figsize=(12,6))\n",
    "line = plt.plot(x, Q, 'k', x, Qa, 'r--')\n",
    "plt.ylabel('Amplitude')\n",
    "plt.xlabel('x')\n",
    "plt.title('Scalar Advection - %s method'%method, size=16)\n",
    "\n",
    "plt.ion()    # set interective mode\n",
    "plt.show()\n",
    "\n",
    "# ---------------------------------------------------------------\n",
    "# Time extrapolation\n",
    "# --------------------------------------------------------------- \n",
    "for i in range(nt): \n",
    "    # upwind method\n",
    "    if method == 'upwind': \n",
    "        for j in range(1, nx-1):\n",
    "            # Forward (upwind) (c>0)\n",
    "            dQ[j] = Q[j] - Q[j-1]\n",
    "        # Time extrapolation \n",
    "        Q = Q - dt/dx*c*dQ\n",
    "        \n",
    "    # Lax wendroff method\n",
    "    if method == 'Lax-Wendroff': \n",
    "        for j in range(1, nx-1):\n",
    "            # Forward (upwind) (c>0)\n",
    "            dQ1[j] = Q[j+1] - 2*Q[j] + Q[j-1]\n",
    "            dQ2[j] = Q[j+1] - Q[j-1]\n",
    "        # Time extrapolation \n",
    "        Q = Q - 0.5*c*dt/dx*dQ2 + 0.5*(c*dt/dx)**2 *dQ1\n",
    "        \n",
    "    # Boundary condition     \n",
    "    Q[0] = Q[nx-2]    # Periodic    \n",
    "    Q[nx-1] = Q[nx-2] # Absorbing\n",
    "    \n",
    "    # --------------------------------------   \n",
    "    # Animation plot. Display solution\n",
    "    if not i % isnap: \n",
    "        for l in line:\n",
    "            l.remove()\n",
    "            del l  \n",
    "        # -------------------------------------- \n",
    "        # Analytical solution\n",
    "        xd = c*i*dt+x0\n",
    "        Qa = np.exp(-1./sig**2 * (x - xd)**2)\n",
    "        \n",
    "        # -------------------------------------- \n",
    "        # Display lines\n",
    "        line = plt.plot(x, Q, 'k', x, Qa, 'r--', lw=1.5)\n",
    "        plt.legend(iter(line), ('F. Volume', 'Analytic'))\n",
    "        plt.gcf().canvas.draw()      \n",
    "        "
   ]
  },
  {
   "cell_type": "code",
   "execution_count": null,
   "metadata": {
    "collapsed": true
   },
   "outputs": [],
   "source": []
  }
 ],
 "metadata": {
  "kernelspec": {
   "display_name": "Python 3",
   "language": "python",
   "name": "python3"
  },
  "language_info": {
   "codemirror_mode": {
    "name": "ipython",
    "version": 3
   },
   "file_extension": ".py",
   "mimetype": "text/x-python",
   "name": "python",
   "nbconvert_exporter": "python",
   "pygments_lexer": "ipython3",
   "version": "3.5.2"
  }
 },
 "nbformat": 4,
 "nbformat_minor": 0
}
