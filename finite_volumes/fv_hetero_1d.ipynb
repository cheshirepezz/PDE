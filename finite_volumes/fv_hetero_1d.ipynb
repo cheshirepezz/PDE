{
 "cells": [
  {
   "cell_type": "markdown",
   "metadata": {},
   "source": [
    "<div style='background-image: url(\"../../share/images/header.svg\") ; padding: 0px ; background-size: cover ; border-radius: 5px ; height: 250px'>\n",
    "    <div style=\"float: right ; margin: 50px ; padding: 20px ; background: rgba(255 , 255 , 255 , 0.7) ; width: 50% ; height: 150px\">\n",
    "        <div style=\"position: relative ; top: 50% ; transform: translatey(-50%)\">\n",
    "            <div style=\"font-size: xx-large ; font-weight: 900 ; color: rgba(0 , 0 , 0 , 0.8) ; line-height: 100%\">Computational Seismology</div>\n",
    "            <div style=\"font-size: large ; padding-top: 20px ; color: rgba(0 , 0 , 0 , 0.5)\">Finite Volume Method - 1D Elastic Wave Equation. Heterogeneous case</div>\n",
    "        </div>\n",
    "    </div>\n",
    "</div>"
   ]
  },
  {
   "cell_type": "markdown",
   "metadata": {},
   "source": [
    "Seismo-Live: http://seismo-live.org\n",
    "\n",
    "##### Authors:\n",
    "* David Vargas ([@dvargas](https://github.com/davofis))\n",
    "* Heiner Igel ([@heinerigel](https://github.com/heinerigel))"
   ]
  },
  {
   "cell_type": "markdown",
   "metadata": {},
   "source": [
    "## Basic Equations\n",
    "\n",
    "The source free elastic wave equation can be written in terms of a coupled first-order system \n",
    "\n",
    "\\begin{align}\n",
    "\\partial_t \\sigma - \\mu \\partial_x v & = 0 \\\\ \n",
    "\\partial_t v - \\frac{1}{\\rho} \\partial_x \\sigma & = 0\n",
    "\\end{align}\n",
    "\n",
    "with $\\rho$ the density and $\\mu$ the shear modulus. This equation in matrix-vector notation follows\n",
    "\n",
    "\\begin{equation}\n",
    "\\partial_t \\mathbf{Q} + \\mathbf{A} \\partial_x \\mathbf{Q} = 0\n",
    "\\end{equation}\n",
    "\n",
    "where $\\mathbf{Q} = (\\sigma, v)$ is the vector of unknowns and the matrix $\\mathbf{A}$ contains the parameters $\\rho$ and $\\mu$. The above matrix equation is analogous to the advection equation $\\partial_t q + a \\partial_x q = 0$. Although it is a coupled system, diagonalization of $\\mathbf{A} = \\mathbf{R}^{-1}\\mathbf{\\Lambda}\\mathbf{R}$ allows us to implement all elements developed for the solution of the advection equation in terms of fluxes. It turns out that the decoupled version is\n",
    "\n",
    "\\begin{equation}\n",
    "\\partial_t \\mathbf{W} + \\mathbf{\\Lambda} \\partial_x \\mathbf{W} = 0\n",
    "\\end{equation}\n",
    "\n",
    "with $\\mathbf{W} = \\mathbf{R}^{-1}\\mathbf{Q}$, where the eigenvector matrix $\\mathbf{R}$ and the diagonal matrix of eigenvalues $\\mathbf{\\Lambda}$ are given for the heterogeneous case \n",
    "\n",
    "\\begin{equation}\n",
    "\\mathbf{\\Lambda}_i=\n",
    "     \\begin{pmatrix}\n",
    "       -c_i & 0 \\\\\n",
    "        0 & c_i \n",
    "     \\end{pmatrix}\n",
    "\\qquad\\text{,}\\qquad\n",
    "\\mathbf{A}_i=\n",
    "     \\begin{pmatrix}\n",
    "        0 & -\\mu_i \\\\\n",
    "        -1/\\rho_i & 0 \n",
    "     \\end{pmatrix}\n",
    "\\qquad\\text{,}\\qquad\n",
    "\\mathbf{R} =  \n",
    "     \\begin{pmatrix}\n",
    "       Z_i & -Z_i \\\\\n",
    "       1 &  1 \n",
    "     \\end{pmatrix}\n",
    "\\qquad\\text{and}\\qquad\n",
    "\\mathbf{R}^{-1} = \\frac{1}{2Z_i}\n",
    "     \\begin{pmatrix}\n",
    "       1 & Z_i \\\\\n",
    "      -1 & Z_i \n",
    "     \\end{pmatrix}\n",
    "\\end{equation}\n",
    "\n",
    "Here $Z_i = \\rho_i c_i$ represents the seismic impedance. In comparison with the homogeneous case, here we allow coefficients of matrix $\\mathbf{A}$ to vary for each element\n",
    "\n",
    "This notebook implements the Lax-Wendroff scheme for solving the free source version of the elastic wave equation in a heterogeneous media. This solution is compared with the one obtained using the finite difference scheme. To keep the problem simple we use as spatial initial condition a Gauss function with half-width $\\sigma$\n",
    "\n",
    "\\begin{equation}\n",
    "Q(x,t=0)  = e^{-1/\\sigma^2 (x - x_{o})^2}\n",
    "\\end{equation}\n"
   ]
  },
  {
   "cell_type": "code",
   "execution_count": null,
   "metadata": {
    "collapsed": true
   },
   "outputs": [],
   "source": [
    "# Import all necessary libraries, this is a configuration step for the exercise.\n",
    "# Please run it before the simulation code!\n",
    "import numpy as np\n",
    "import matplotlib.pyplot as plt\n",
    "import matplotlib.animation as animation\n",
    "\n",
    "# Show the plots in the Notebook.\n",
    "plt.switch_backend(\"nbagg\")"
   ]
  },
  {
   "cell_type": "markdown",
   "metadata": {},
   "source": [
    "### 1. Initialization of setup"
   ]
  },
  {
   "cell_type": "code",
   "execution_count": null,
   "metadata": {
    "collapsed": true
   },
   "outputs": [],
   "source": [
    "# Initialization of setup\n",
    "# --------------------------------------------------------------------------\n",
    "nx    = 800         # number of grid points \n",
    "c0    = 2500        # acoustic velocity in m/s\n",
    "rho    = 2500       # density in kg/m^3\n",
    "Z0    = rho*c0      # impedance\n",
    "mu    = rho*c0**2   # shear modulus\n",
    "rho0  = rho         # density\n",
    "mu0   = mu          # shear modulus\n",
    "\n",
    "xmax  = 10000       # in m \n",
    "eps   = 0.5         # CFL\n",
    "tmax  = 1.5         # simulation time in s\n",
    "isnap = 10          # plotting rate\n",
    "sig   = 200         # argument in the inital condition\n",
    "x0    = 2500        # position of the initial condition"
   ]
  },
  {
   "cell_type": "markdown",
   "metadata": {},
   "source": [
    "### 2. Finite Differences setup"
   ]
  },
  {
   "cell_type": "code",
   "execution_count": null,
   "metadata": {
    "collapsed": false
   },
   "outputs": [],
   "source": [
    "# Finite Differences setup \n",
    "# --------------------------------------------------------------------------  \n",
    "dx    = xmax/(nx-1)                  # calculate space increment\n",
    "xfd   = np.arange(0, nx)*dx          # initialize space \n",
    "mufd  = np.zeros(xfd.size) + mu0     # initialize shear modulus \n",
    "rhofd = np.zeros(xfd.size) + rho0    # initialize density \n",
    "\n",
    "# Introduce inhomogeneity\n",
    "mufd[int((nx-1)/2) + 1:nx] = mufd[int((nx-1)/2) + 1:nx]*4\n",
    "\n",
    "# initialize fields\n",
    "s  = np.zeros(xfd.size)\n",
    "v  = np.zeros(xfd.size)\n",
    "dv = np.zeros(xfd.size)\n",
    "ds = np.zeros(xfd.size)\n",
    "s  = np.exp(-1./sig**2 * (xfd-x0)**2)   # Initial condition"
   ]
  },
  {
   "cell_type": "markdown",
   "metadata": {},
   "source": [
    "### 3. Finite Volumes setup"
   ]
  },
  {
   "cell_type": "code",
   "execution_count": null,
   "metadata": {
    "collapsed": false
   },
   "outputs": [],
   "source": [
    "# Finite Volumes setup \n",
    "# --------------------------------------------------------------------------  \n",
    "A = np.zeros((2,2,nx))\n",
    "Z = np.zeros((1,nx))\n",
    "c = np.zeros((1,nx))\n",
    "\n",
    "# Initialize velocity\n",
    "c = c + c0\n",
    "c[int(nx/2):nx] = c[int(nx/2):nx]*2\n",
    "Z = rho*c\n",
    "\n",
    "# Initialize A for each cell\n",
    "for i in range(1,nx):    \n",
    "    A0 = np.array([[0, -mu], [-1/rho, 0]])\n",
    "    if i > nx/2:\n",
    "        A0= np.array([[0, -4*mu], [-1/rho, 0]])\n",
    "    A[:,:,i] = A0 \n",
    "\n",
    "# Initialize Space\n",
    "x, dx = np.linspace(0,xmax,nx,retstep=True)\n",
    "\n",
    "# use wave based CFL criterion\n",
    "dt = eps*dx/np.max(c) # calculate tim step from stability criterion\n",
    "\n",
    "# Simulation time\n",
    "nt = int(np.floor(tmax/dt))\n",
    "\n",
    "# Initialize wave fields\n",
    "Q = np.zeros((2,nx))\n",
    "Qnew = np.zeros((2,nx))"
   ]
  },
  {
   "cell_type": "markdown",
   "metadata": {},
   "source": [
    "### 4. Initial condition"
   ]
  },
  {
   "cell_type": "code",
   "execution_count": null,
   "metadata": {
    "collapsed": false
   },
   "outputs": [],
   "source": [
    "# Initial condition\n",
    "#----------------------------------------------------------------\n",
    "sx = np.exp(-1./sig**2 * (x-x0)**2)\n",
    "Q[0,:] = sx\n",
    "\n",
    "# ---------------------------------------------------------------\n",
    "# Plot initial condition\n",
    "# ---------------------------------------------------------------\n",
    "plt.plot(x, sx, color='r', lw=2, label='Initial condition')\n",
    "plt.ylabel('Amplitude', size=16)\n",
    "plt.xlabel('x', size=16)\n",
    "plt.legend()\n",
    "plt.grid(True)\n",
    "plt.show()"
   ]
  },
  {
   "cell_type": "markdown",
   "metadata": {},
   "source": [
    "### 4. Solution for the inhomogeneous problem\n",
    "\n",
    "#### Upwind finite volume scheme\n",
    "We decompose the solution into right propagating $\\mathbf{\\Lambda}_i^{+}$ and left propagating eigenvalues $\\mathbf{\\Lambda}_i^{-}$ where\n",
    "\n",
    "\\begin{equation}\n",
    "\\mathbf{\\Lambda}_i^{+}=\n",
    "     \\begin{pmatrix}\n",
    "       -c_i & 0 \\\\\n",
    "        0 & 0 \n",
    "     \\end{pmatrix}\n",
    "\\qquad\\text{,}\\qquad\n",
    "\\mathbf{\\Lambda}_i^{-}=\n",
    "     \\begin{pmatrix}\n",
    "        0 & 0 \\\\\n",
    "        0 & c_i \n",
    "     \\end{pmatrix}\n",
    "\\qquad\\text{and}\\qquad\n",
    "\\mathbf{A}_i^{\\pm} = \\mathbf{R}^{-1}\\mathbf{\\Lambda}_i^{\\pm}\\mathbf{R}\n",
    "\\end{equation}\n",
    "\n",
    "This strategy allows us to formulate an upwind finite volume scheme for any hyperbolic system as \n",
    "\n",
    "\\begin{equation}\n",
    "\\mathbf{Q}_{i}^{n+1}  = \\mathbf{Q}_{i}^{n} - \\frac{dt}{dx}(\\mathbf{A}_i^{+}\\Delta\\mathbf{Q}_{l} - \\mathbf{A}_i^{-}\\Delta\\mathbf{Q}_{r})\n",
    "\\end{equation}\n",
    "\n",
    "with corresponding flux term given by\n",
    "\n",
    "\\begin{equation}\n",
    "\\mathbf{F}_{l} =  \\mathbf{A}_i^{+}\\Delta\\mathbf{Q}_{l}\n",
    "\\qquad\\text{,}\\qquad\n",
    "\\mathbf{F}_{r}  =  \\mathbf{A}_i^{-}\\Delta\\mathbf{Q}_{r}\n",
    "\\end{equation}\n",
    "\n",
    "#### Lax-Wendroff finite volume scheme\n",
    "\n",
    "The upwind solution presents a strong diffusive behavior. In this sense, the Lax-Wendroff perform better, with the advantage that it is not needed to decompose the eigenvalues into right and left propagations. Here the matrix $\\mathbf{A}_i$ can be used in its original form. The Lax-Wendroff follows\n",
    "\n",
    "\\begin{equation}\n",
    "\\mathbf{Q}_{i}^{n+1}  = \\mathbf{Q}_{i}^{n} - \\frac{dt}{2dx}\\mathbf{A}_i(\\Delta\\mathbf{Q}_{l} + \\Delta\\mathbf{Q}_{r}) + \\frac{1}{2}\\Big(\\frac{dt}{dx}\\Big)^2\\mathbf{A}_i^2(\\Delta\\mathbf{Q}_{l} - \\Delta\\mathbf{Q}_{r})\n",
    "\\end{equation} "
   ]
  },
  {
   "cell_type": "code",
   "execution_count": null,
   "metadata": {
    "code_folding": [
     53
    ],
    "collapsed": false
   },
   "outputs": [],
   "source": [
    "# Initialize animated plot\n",
    "# ---------------------------------------------------------------\n",
    "fig = plt.figure(figsize=(10,6))\n",
    "ax1 = fig.add_subplot(2,1,1)\n",
    "ax2 = fig.add_subplot(2,1,2)\n",
    "ax1.axvspan(((nx-1)/2+1)*dx, nx*dx, alpha=0.2, facecolor='b')\n",
    "ax2.axvspan(((nx-1)/2+1)*dx, nx*dx, alpha=0.2, facecolor='b')\n",
    "ax1.set_xlim([0, xmax])\n",
    "ax2.set_xlim([0, xmax])\n",
    "ax1.set_ylabel('Stress')\n",
    "ax2.set_ylabel('Velocity')\n",
    "ax2.set_xlabel(' x ')\n",
    "\n",
    "line1 = ax1.plot(x, Q[0,:], 'k', x, s, 'r--')\n",
    "line2 = ax2.plot(x, Q[1,:], 'k', x, v, 'r--')\n",
    "\n",
    "plt.suptitle('Heterogeneous F. volume - Lax-Wendroff method', size=16)\n",
    "ax1.text(0.1*xmax, 0.8*max(sx), '$\\mu$ = $\\mu_{o}$')\n",
    "ax1.text(0.8*xmax, 0.8*max(sx), '$\\mu$ = $4\\mu_{o}$')\n",
    "\n",
    "plt.ion()    # set interective mode\n",
    "plt.show()\n",
    "\n",
    "# ---------------------------------------------------------------\n",
    "# Time extrapolation\n",
    "# ---------------------------------------------------------------  \n",
    "for j in range(nt):\n",
    "    # Finite Volume Extrapolation scheme-------------------------\n",
    "    for i in range(1,nx-1): \n",
    "        # Lax-Wendroff method\n",
    "        dQl = Q[:,i] - Q[:,i-1]\n",
    "        dQr = Q[:,i+1] - Q[:,i]      \n",
    "        Qnew[:,i] = Q[:,i] - dt/(2*dx)*A[:,:,i] @ (dQl + dQr)\\\n",
    "                + 1/2*(dt/dx)**2 *A[:,:,i] @ A[:,:,i] @ (dQr - dQl)\n",
    "    # Absorbing boundary conditions\n",
    "    Qnew[:,0] = Qnew[:,1]\n",
    "    Qnew[:,nx-1] = Qnew[:,nx-2]\n",
    "    Q, Qnew = Qnew, Q\n",
    "\n",
    "    # Finite Difference Extrapolation scheme---------------------\n",
    "    # Stress derivative\n",
    "    for i in range(1, nx-1):\n",
    "        ds[i] = (s[i+1] - s[i])/dx \n",
    "    # Velocity extrapolation\n",
    "    v = v + dt*ds/rhofd\n",
    "    # Velocity derivative\n",
    "    for i in range(1, nx-1):\n",
    "        dv[i] = (v[i] - v[i-1])/dx \n",
    "    # Stress extrapolation\n",
    "    s = s + dt*mufd*dv \n",
    "\n",
    "    # --------------------------------------   \n",
    "    # Animation plot. Display solutions\n",
    "    if not j % isnap: \n",
    "        for l in line1:\n",
    "            l.remove()\n",
    "            del l               \n",
    "        for l in line2:\n",
    "            l.remove()\n",
    "            del l \n",
    "\n",
    "        line1 = ax1.plot(x, Q[0,:], 'k', x, s, 'r--')\n",
    "        line2 = ax2.plot(x, Q[1,:], 'k', x, v, 'r--')\n",
    "        plt.legend(iter(line2), ('F. Volume', 'f. Diff'))\n",
    "        plt.gcf().canvas.draw()\n"
   ]
  },
  {
   "cell_type": "code",
   "execution_count": null,
   "metadata": {
    "collapsed": true
   },
   "outputs": [],
   "source": []
  }
 ],
 "metadata": {
  "kernelspec": {
   "display_name": "Python 3",
   "language": "python",
   "name": "python3"
  },
  "language_info": {
   "codemirror_mode": {
    "name": "ipython",
    "version": 3
   },
   "file_extension": ".py",
   "mimetype": "text/x-python",
   "name": "python",
   "nbconvert_exporter": "python",
   "pygments_lexer": "ipython3",
   "version": "3.5.2"
  }
 },
 "nbformat": 4,
 "nbformat_minor": 0
}
