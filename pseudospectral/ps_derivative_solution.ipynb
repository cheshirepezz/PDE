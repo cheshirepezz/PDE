{
 "cells": [
  {
   "cell_type": "markdown",
   "metadata": {},
   "source": [
    "<div style='background-image: url(\"../../share/images/header.svg\") ; padding: 0px ; background-size: cover ; border-radius: 5px ; height: 250px'>\n",
    "    <div style=\"float: right ; margin: 50px ; padding: 20px ; background: rgba(255 , 255 , 255 , 0.7) ; width: 50% ; height: 150px\">\n",
    "        <div style=\"position: relative ; top: 50% ; transform: translatey(-50%)\">\n",
    "            <div style=\"font-size: xx-large ; font-weight: 900 ; color: rgba(0 , 0 , 0 , 0.8) ; line-height: 100%\">Computational Seismology</div>\n",
    "            <div style=\"font-size: large ; padding-top: 20px ; color: rgba(0 , 0 , 0 , 0.5)\">Numerical derivatives based on the Fourier Transform</div>\n",
    "        </div>\n",
    "    </div>\n",
    "</div>"
   ]
  },
  {
   "cell_type": "markdown",
   "metadata": {},
   "source": [
    "Seismo-Live: http://seismo-live.org\n",
    "\n",
    "##### Authors:\n",
    "* Fabian Linder ([@fablindner](https://github.com/fablindner))\n",
    "* Heiner Igel ([@heinerigel](https://github.com/heinerigel))\n",
    "* David Vargas ([@dvargas](https://github.com/davofis))\n",
    "---"
   ]
  },
  {
   "cell_type": "markdown",
   "metadata": {},
   "source": [
    "## Basic Equations\n",
    "The derivative of function $f(x)$ with respect to the spatial coordinate $x$ is calculated using the differentiation theorem of the Fourier transform:\n",
    "\n",
    "\\begin{equation}\n",
    "\\frac{d}{dx} f(x) = \\frac{1}{\\sqrt{2\\pi}} \\int_{-\\infty}^{\\infty} ik F(k) e^{ikx} dk\n",
    "\\end{equation}\n",
    "\n",
    "In general, this formulation can be extended to compute the n−th derivative of $f(x)$ by considering that $F^{(n)}(k) = D(k)^{n}F(k) = (ik)^{n}F(k)$. Next, the inverse Fourier transform is taken to return to physical space. \n",
    "\n",
    "\\begin{equation}\n",
    "f^{(n)}(x) = \\mathscr{F}^{-1}[(ik)^{n}F(k)] = \\frac{1}{\\sqrt{2\\pi}} \\int_{-\\infty}^{\\infty} (ik)^{n} F(k) e^{ikx} dk\n",
    "\\end{equation}\n"
   ]
  },
  {
   "cell_type": "code",
   "execution_count": null,
   "metadata": {
    "collapsed": false
   },
   "outputs": [],
   "source": [
    "# Import all necessary libraries, this is a configuration step for the exercise.\n",
    "# Please run it before the simulation code!\n",
    "import numpy as np\n",
    "import matplotlib.pyplot as plt\n",
    "\n",
    "# Show the plots in the Notebook.\n",
    "plt.switch_backend(\"nbagg\")"
   ]
  },
  {
   "cell_type": "markdown",
   "metadata": {
    "solution2": "hidden",
    "solution2_first": true
   },
   "source": [
    "#### Exercise 1\n",
    "\n",
    "Define a python function call \"fourier_derivative(f, dx)\" that compute the first derivative of a function $f$ using the Fourier transform properties. "
   ]
  },
  {
   "cell_type": "code",
   "execution_count": null,
   "metadata": {
    "collapsed": true,
    "solution2": "hidden"
   },
   "outputs": [],
   "source": [
    "def fourier_derivative(f, dx):\n",
    "    # Length of vector f\n",
    "    nx = np.size(f)\n",
    "    # Initialize k vector up to Nyquist wavenumber      \n",
    "    kmax = np.pi/dx\n",
    "    dk = kmax/(nx/2)\n",
    "    k = np.arange(float(nx))\n",
    "    k[: int(nx/2)] = k[: int(nx/2)] * dk \n",
    "    k[int(nx/2) :] = k[: int(nx/2)] - kmax\n",
    "    # Fourier derivative\n",
    "    ff = np.fft.fft(f); ff = 1j*k*ff\n",
    "    df_num = np.real(np.fft.ifft(ff))\n",
    "    return df_num"
   ]
  },
  {
   "cell_type": "markdown",
   "metadata": {
    "solution2": "hidden",
    "solution2_first": true
   },
   "source": [
    "#### Exercise 2\n",
    "\n",
    "Calculate the numerical derivative based on the Fourier transform to show that the derivative is exact. Define an arbitrary function (e.g. a Gaussian) and initialize its analytical derivative on the same spatial grid. Calculate the numerical derivative and the difference to the analytical solution. Vary the wavenumber content of the analytical function. Does it make a difference? Why is the numerical result not entirely exact?"
   ]
  },
  {
   "cell_type": "code",
   "execution_count": null,
   "metadata": {
    "collapsed": false,
    "solution2": "hidden"
   },
   "outputs": [],
   "source": [
    "# Basic parameters\n",
    "# ---------------------------------------------------------------\n",
    "nx = 128\n",
    "x, dx = np.linspace(2*np.pi/nx, 2*np.pi, nx, retstep=True) \n",
    "sigma = 0.5\n",
    "xo = np.pi\n",
    "\n",
    "# Initialize Gauss function \n",
    "f = np.exp(-1/sigma**2 * (x - xo)**2)\n",
    "\n",
    "# Numerical derivative  \n",
    "df_num = fourier_derivative(f, dx)\n",
    "\n",
    "# Analytical derivative\n",
    "df_ana = -2*(x-xo)/sigma**2 * np.exp(-1/sigma**2 * (x-xo)**2)\n",
    "\n",
    "# To make the error visible, it is multiply by 10^13\n",
    "df_err = 1e13*(df_ana - df_num)\n",
    "\n",
    "# Error between analytical and numerical solution\n",
    "err = np.sum((df_num - df_ana)**2) / np.sum(df_ana**2) * 100\n",
    "print('Error: %s' %err)\n"
   ]
  },
  {
   "cell_type": "markdown",
   "metadata": {
    "solution2": "hidden",
    "solution2_first": true
   },
   "source": [
    "#### Exercise 3\n",
    "\n",
    "Now that the numerical derivative is available, we can visually inspect our results. Make a plot of both, the analytical and numerical derivatives together with the difference error.   "
   ]
  },
  {
   "cell_type": "code",
   "execution_count": null,
   "metadata": {
    "collapsed": false,
    "solution2": "hidden"
   },
   "outputs": [],
   "source": [
    "# Plot analytical and numerical derivatives\n",
    "# ---------------------------------------------------------------\n",
    "\n",
    "plt.subplot(2,1,1)\n",
    "plt.plot(x, f, \"g\", lw = 1.5, label='Gaussian')\n",
    "plt.legend(loc='upper right', shadow=True)\n",
    "plt.xlabel('$x$')        \n",
    "plt.ylabel('$f(x)$')\n",
    "plt.axis([2*np.pi/nx, 2*np.pi, 0, 1])\n",
    "\n",
    "plt.subplot(2,1,2)\n",
    "plt.plot(x, df_ana, \"b\", lw = 1.5, label='Analytical')\n",
    "plt.plot(x, df_num, 'k--', lw = 1.5, label='Numerical')\n",
    "plt.plot(x, df_err, \"r\", lw = 1.5, label='Difference')\n",
    "plt.legend(loc='upper right', shadow=True)\n",
    "plt.xlabel('$x$')        \n",
    "plt.ylabel('$\\partial_x f(x)$')\n",
    "plt.axis([2*np.pi/nx, 2*np.pi, -2, 2])\n",
    "\n",
    "plt.show()\n",
    "#plt.savefig('Fig_5.9.png')"
   ]
  },
  {
   "cell_type": "code",
   "execution_count": null,
   "metadata": {
    "collapsed": true
   },
   "outputs": [],
   "source": []
  }
 ],
 "metadata": {
  "kernelspec": {
   "display_name": "Python 3",
   "language": "python",
   "name": "python3"
  },
  "language_info": {
   "codemirror_mode": {
    "name": "ipython",
    "version": 3
   },
   "file_extension": ".py",
   "mimetype": "text/x-python",
   "name": "python",
   "nbconvert_exporter": "python",
   "pygments_lexer": "ipython3",
   "version": "3.5.2"
  }
 },
 "nbformat": 4,
 "nbformat_minor": 0
}
