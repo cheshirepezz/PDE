{
 "cells": [
  {
   "cell_type": "markdown",
   "metadata": {},
   "source": [
    "<div style='background-image: url(\"../../share/images/header.svg\") ; padding: 0px ; background-size: cover ; border-radius: 5px ; height: 250px'>\n",
    "    <div style=\"float: right ; margin: 50px ; padding: 20px ; background: rgba(255 , 255 , 255 , 0.7) ; width: 50% ; height: 150px\">\n",
    "        <div style=\"position: relative ; top: 50% ; transform: translatey(-50%)\">\n",
    "            <div style=\"font-size: xx-large ; font-weight: 900 ; color: rgba(0 , 0 , 0 , 0.8) ; line-height: 100%\">Computational Seismology</div>\n",
    "            <div style=\"font-size: large ; padding-top: 20px ; color: rgba(0 , 0 , 0 , 0.5)\">The Fourier Pseudospectral Method - Acoustic Waves in 1D</div>\n",
    "        </div>\n",
    "    </div>\n",
    "</div>"
   ]
  },
  {
   "cell_type": "markdown",
   "metadata": {},
   "source": [
    "Seismo-Live: http://seismo-live.org\n",
    "\n",
    "##### Authors:\n",
    "* David Vargas ([@dvargas](https://github.com/davofis))\n",
    "* Heiner Igel ([@heinerigel](https://github.com/heinerigel))\n",
    "---"
   ]
  },
  {
   "cell_type": "markdown",
   "metadata": {},
   "source": [
    "## Basic Equations\n",
    "We use the Fourier method to calculate exact n-th derivatives on a regular spaced grid (to machine precision). This property combined with classical time extrapolation schemes result in the so call Fourier pseudospectral method.  The problem of solving the 1D acoustic wave equation in an homogeneous media\n",
    "\n",
    "\\begin{equation}\n",
    "\\partial_t^2 p(x,t) = c(x)^2 \\ \\partial_x^2 p(x,t) + s(x,t)\n",
    "\\end{equation}\n",
    "\n",
    "is covered in this notebook. We explore the benefits of calculating exact spatial derivatives (up to machine precision), numerical dispersion, comparison with a Finite Difference scheme "
   ]
  },
  {
   "cell_type": "code",
   "execution_count": null,
   "metadata": {
    "collapsed": true
   },
   "outputs": [],
   "source": [
    "# This is a configuration step for the exercise. Please run it before calculating the derivative!\n",
    "import numpy as np\n",
    "import matplotlib.pyplot as plt\n",
    "from ricker import ricker \n",
    "\n",
    "# Show the plots in the Notebook.\n",
    "plt.switch_backend(\"nbagg\")"
   ]
  },
  {
   "cell_type": "markdown",
   "metadata": {},
   "source": [
    "### 1. Fourier derivative method\n",
    "The second spatial derivative is computed by multiplying the spatial Fourier transform of the pressure field $P(k,t)$ with $ (ik)^2 $\n",
    "\n",
    "\\begin{equation}\n",
    "\\partial_x^2 p(x,t) = \\mathscr{F}^{-1}[(ik)^{2}P(k,t)] = \\frac{1}{\\sqrt{2\\pi}} \\int_{-\\infty}^{\\infty} (ik)^{2} P(k,t) e^{ikx} dk\n",
    "\\end{equation}\n",
    "\n",
    "where $k$ is the wavenumber and $IFT$ the Inverse Fourier Transform. A function to perform this task is implemented in the next cell."
   ]
  },
  {
   "cell_type": "code",
   "execution_count": null,
   "metadata": {
    "collapsed": true
   },
   "outputs": [],
   "source": [
    "def fourier_derivative_2nd(f, dx):\n",
    "    # Length of vector f\n",
    "    nx = np.size(f)\n",
    "    # Initialize k vector up to Nyquist wavenumber \n",
    "    kmax = np.pi / dx\n",
    "    dk = kmax / (nx / 2)\n",
    "    k = np.arange(float(nx))\n",
    "    k[: int(nx/2)] = k[: int(nx/2)] * dk \n",
    "    k[int(nx/2) :] = k[: int(nx/2)] - kmax\n",
    "    \n",
    "    # Fourier derivative\n",
    "    ff = np.fft.fft(f)\n",
    "    ff = (1j*k)**2 * ff\n",
    "    df_num = np.real(np.fft.ifft(ff))\n",
    "    return df_num"
   ]
  },
  {
   "cell_type": "markdown",
   "metadata": {},
   "source": [
    "### 2. Initialization of setup"
   ]
  },
  {
   "cell_type": "code",
   "execution_count": null,
   "metadata": {
    "collapsed": false
   },
   "outputs": [],
   "source": [
    "# Basic parameters\n",
    "# ---------------------------------------------------------------\n",
    "nt    = 3500    # number of time steps\n",
    "c     = 343.    # acoustic velocity [m/s]\n",
    "eps   = 0.2     # stability limit\n",
    "isnap = 50      # snapshot frequency\n",
    "isx   = 1250    # source location\n",
    "f0    = 60.     # Frequency [Hz](div by 5)\n",
    "nx    = 2024    # number of grid points in x \n",
    "\n",
    "# pressure fields Initialization\n",
    "p = np.zeros(nx) ; pnew = p ; pold = p ; d2p = p; dp = p   \n",
    "ap = np.zeros(nx); apnew = ap; apold = ap; ad2p = ap; adp = ap \n",
    "sp = np.zeros(nx); spnew = sp; spold = sp; sd2p = sp; sdp = p \n",
    "\n",
    "dx = 1250./(nx-1)  # calculate space increment\n",
    "x  = np.arange(0, nx)*dx   # initialize space coordinates\n",
    "dt = eps*dx/c; # calculate time step from stability criterion"
   ]
  },
  {
   "cell_type": "markdown",
   "metadata": {},
   "source": [
    "### 3. Source Initialization "
   ]
  },
  {
   "cell_type": "code",
   "execution_count": null,
   "metadata": {
    "collapsed": true
   },
   "outputs": [],
   "source": [
    "# source time function\n",
    "# ---------------------------------------------------------------\n",
    "t   = np.arange(1, nt+1)*dt  # initialize time axis\n",
    "T0  = 1./f0\n",
    "tmp = ricker(dt, T0)\n",
    "tmp = np.diff(tmp)\n",
    "src = np.zeros(nt) \n",
    "src[0:np.size(tmp)] = tmp\n",
    "lam = c*T0\n",
    "\n",
    "#spatial source function\n",
    "# ---------------------------------------------------------------\n",
    "sigma = 2*dx\n",
    "x0 = x[isx-1]\n",
    "sg = np.exp(-1/sigma**2 *(x - x0)**2); sg = sg/np.amax(sg)"
   ]
  },
  {
   "cell_type": "markdown",
   "metadata": {},
   "source": [
    "### 4. Time Extrapolation\n",
    "The final solution for our 1D acoustic wave problem after introducing a finite differences time extrapolation schem can be written as \n",
    "\n",
    "\\begin{equation}\n",
    "p_{j}^{n+1} = dt^2c_{j}^{2} \\partial_{x}^{2}p_{j}^{n} + dt^2s_{j}^{n} + 2p_{j}^{n} - p_{j}^{n-1}\n",
    "\\end{equation}\n",
    "\n",
    "where the space derivative is computed with the Fourier method. In order to compare the above numerical solution, we implement a 3-point finite difference operator, as well as a 5-point finite difference operator to compute spatial derivatives. They are given as:\n",
    "\n",
    "1.) **3-point finite difference operator**\n",
    "\\begin{equation}\n",
    "\\partial_x^2 p(x,t) = \\frac{p(x+\\mathrm{d}x,t) - 2 p(x,t) + p(x-\\mathrm{d}x,t)}{\\mathrm{d}x^2} \n",
    "\\end{equation}\n",
    "\n",
    "2.) **5-point finite difference operator**\n",
    "\\begin{equation}\n",
    "\\partial_x^2 p(x,t) = \\frac{-p(x+2\\mathrm{d}x,t) + 16p(x+\\mathrm{d}x,t) - 30p(x,t) + 16p(x-\\mathrm{d}x,t) - p(x-2\\mathrm{d}x,t)}{12\\mathrm{d}x^2} \n",
    "\\end{equation}\n",
    "\n",
    "#### Numerical dispersion\n",
    "\n",
    "One of the most prominent characteristic of the Fourier method is the low numerical dispersion in comparison with the finite difference method. The animation displayed below compare the effects of numerical dispersion on the solution of the 1D acoustic equation using our three different approaches.  "
   ]
  },
  {
   "cell_type": "code",
   "execution_count": null,
   "metadata": {
    "code_folding": [
     50
    ],
    "collapsed": false
   },
   "outputs": [],
   "source": [
    "# Initialize animated plot\n",
    "# ---------------------------------------------------------------\n",
    "fig, (ax1, ax2, ax3) = plt.subplots(3, sharex=True, sharey=True, figsize=(12,7))  \n",
    "line1 = ax1.plot(x[isx:], p[isx:], 'k', lw=1.5, label='FD-3pt')\n",
    "line2 = ax2.plot(x[isx:], ap[isx:], 'r', lw=1.5, label='FD-5pt')\n",
    "line3 = ax3.plot(x[isx:], sp[isx:], 'b', lw=1.5, label='Fourier')\n",
    "ax1.axis([isx*dx, nx*dx, -6E-7, 6E-7]); ax3.set_xlabel('x [m]')\n",
    "ax1.legend(loc=4)  \n",
    "ax2.legend(loc=4) \n",
    "ax3.legend(loc=4)\n",
    "\n",
    "plt.ion()   # set interective mode\n",
    "plt.show()\n",
    "\n",
    "# ---------------------------------------------------------------\n",
    "# Time extrapolation\n",
    "# ---------------------------------------------------------------\n",
    "for it in range(nt):\n",
    "    # ----------------------------------------\n",
    "    # Fourier Pseudospectral Method\n",
    "    # ----------------------------------------           \n",
    "    sd2p  = fourier_derivative_2nd(sp, dx)      # 2nd space derivative     \n",
    "    spnew = 2*sp - spold + c**2 * dt**2 * sd2p  # Time Extrapolation   \n",
    "    spnew = spnew + sg*src[it]*dt**2            # Add sources   \n",
    "    spold, sp = sp, spnew                       # Time levels\n",
    "    sp[1] = 0; sp[nx-1] = 0     # set boundaries pressure free\n",
    "       \n",
    "    # ----------------------------------------\n",
    "    # Finite Differences Method 3pt\n",
    "    # ----------------------------------------\n",
    "    for i in range(1, nx-1):\n",
    "        d2p[i] = (p[i+1] - 2*p[i] + p[i-1])/dx**2 # Space derivative          \n",
    "    pnew = 2*p - pold + dt**2 * c**2 * d2p # Time Extrapolation    \n",
    "    pnew = pnew + sg*src[it]*dt**2 # Add source    \n",
    "    pold, p = p, pnew # Time levels\n",
    "    p[0] = 0; p[nx-1] = 0 # set boundaries pressure free\n",
    "        \n",
    "    # ----------------------------------------\n",
    "    # Finite Differences Method 5pt\n",
    "    # ----------------------------------------\n",
    "    for i in range(2, nx-2):\n",
    "        ad2p[i] = (-1/12*ap[i+2] + 4/3*ap[i+1] - 5/2*ap[i] \\\n",
    "                   + 4/3*ap[i-1] - 1/12*ap[i-2])/dx**2 # Space derivative        \n",
    "    apnew = 2*ap - apold + dt**2 * c**2 * ad2p # Time Extrapolation    \n",
    "    apnew = apnew + sg*src[it]*dt**2 # Add source    \n",
    "    apold, ap = ap, apnew # Time levels\n",
    "    ap[0] = 0; ap[nx-1] = 0 # set boundaries pressure free\n",
    "    \n",
    "    # --------------------------------------   \n",
    "    # Animation plot. Display solution\n",
    "    if not it % isnap: \n",
    "        for l in line1:\n",
    "            l.remove()\n",
    "            del l               \n",
    "        for l in line2:\n",
    "            l.remove()\n",
    "            del l\n",
    "        for l in line3:\n",
    "            l.remove()\n",
    "            del l\n",
    "            \n",
    "        # -------------------------------------- \n",
    "        # Display lines\n",
    "        line1 = ax1.plot(x[isx:], p[isx:], 'k', lw=1.5)\n",
    "        line2 = ax2.plot(x[isx:], ap[isx:], 'r', lw=1.5)\n",
    "        line3 = ax3.plot(x[isx:], sp[isx:], 'b', lw=1.5)\n",
    "        plt.gcf().canvas.draw()"
   ]
  },
  {
   "cell_type": "code",
   "execution_count": null,
   "metadata": {
    "collapsed": true
   },
   "outputs": [],
   "source": []
  }
 ],
 "metadata": {
  "kernelspec": {
   "display_name": "Python 3",
   "language": "python",
   "name": "python3"
  },
  "language_info": {
   "codemirror_mode": {
    "name": "ipython",
    "version": 3
   },
   "file_extension": ".py",
   "mimetype": "text/x-python",
   "name": "python",
   "nbconvert_exporter": "python",
   "pygments_lexer": "ipython3",
   "version": "3.5.2"
  }
 },
 "nbformat": 4,
 "nbformat_minor": 0
}
