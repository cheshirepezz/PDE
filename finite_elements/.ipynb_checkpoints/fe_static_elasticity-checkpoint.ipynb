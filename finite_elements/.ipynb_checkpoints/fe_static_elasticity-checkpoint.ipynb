{
 "cells": [
  {
   "cell_type": "markdown",
   "metadata": {
    "collapsed": true
   },
   "source": [
    "<div style='background-image: url(\"../../share/images/header.svg\") ; padding: 0px ; background-size: cover ; border-radius: 5px ; height: 250px'>\n",
    "    <div style=\"float: right ; margin: 50px ; padding: 20px ; background: rgba(255 , 255 , 255 , 0.7) ; width: 50% ; height: 150px\">\n",
    "        <div style=\"position: relative ; top: 50% ; transform: translatey(-50%)\">\n",
    "            <div style=\"font-size: xx-large ; font-weight: 900 ; color: rgba(0 , 0 , 0 , 0.8) ; line-height: 100%\">Computational Seismology</div>\n",
    "            <div style=\"font-size: large ; padding-top: 20px ; color: rgba(0 , 0 , 0 , 0.5)\">Finite Element Method - Static Elasticity</div>\n",
    "        </div>\n",
    "    </div>\n",
    "</div>"
   ]
  },
  {
   "cell_type": "markdown",
   "metadata": {
    "collapsed": true
   },
   "source": [
    "Seismo-Live: http://seismo-live.org\n",
    "\n",
    "##### Authors:\n",
    "* David Vargas ([@dvargas](https://github.com/davofis))\n",
    "* Heiner Igel ([@heinerigel](https://github.com/heinerigel))"
   ]
  },
  {
   "cell_type": "markdown",
   "metadata": {
    "collapsed": true
   },
   "source": [
    "## Basic Equations\n",
    "\n",
    "Static elasticity can be thought as the particular case derived from the elastic wave equation when the displacement does not depend on time, i.e $\\partial_t^2 u(x,t) = 0$. Under this assumption and departing from the 1D elastic wave equation, the differential equation turns into the Poisson equation\n",
    "\n",
    "\\begin{equation}\n",
    "-\\mu \\partial_x^2 u = f,\n",
    "\\end{equation}\n",
    "\n",
    "where $\\mu$ is the shear modulus for a homogeneous media, $u$ is the displacement field, and $f$ is the external force. The solution for this problems is found after bringing this equation into its weak form, applying the free boundary condition, and using the Galerkin principle with a suitable basis. Then, the displacement defined in a discrete set of points $x_i$ is given as the solution of a system of N equations, with \n",
    "\n",
    "\\begin{equation}\n",
    "\\mathbf{u} = (\\mathbf{K}^{T})^{-1} \\mathbf{f}\n",
    "\\end{equation}\n",
    "\n",
    "where $\\mathbf{K}$ is the stiffness matrix. For an elastic physical system with constant shear modulus $\\mu$ and uniform element size $h$, it is given as\n",
    "\n",
    "\\begin{equation}\n",
    "K_{ij} = \\frac{\\mu}{h}\n",
    " \\begin{pmatrix}\n",
    "   1 & -1 &    &    & \\\\\n",
    "  -1 &  2 & -1 &    & \\\\\n",
    "     &    & \\ddots  &  &  \\\\\n",
    "     &    & -1 &  2 & -1   \\\\\n",
    "     &    &    & -1 &  1\n",
    " \\end{pmatrix}\n",
    "\\end{equation}\n",
    "\n",
    "The purpose of this notebook is to illustrate how the problem of static elasticity is solved with the finite- element method. We also compare the solution using finite - differences, the so call relaxation method which solution is:\n",
    "\n",
    "\\begin{equation}\n",
    "u_{i}^{k+1} = \\dfrac{u_{i}^{k+1} + u_{i}^{k+1}}{2} + \\dfrac{h^2}{2 \\mu}f_i\n",
    "\\end{equation}"
   ]
  },
  {
   "cell_type": "code",
   "execution_count": null,
   "metadata": {
    "collapsed": true
   },
   "outputs": [],
   "source": [
    "# Import all necessary libraries, this is a configuration step for the exercise.\n",
    "# Please run it before the simulation code!\n",
    "import numpy as np\n",
    "import matplotlib.pyplot as plt\n",
    "\n",
    "# Show the plots in the Notebook.\n",
    "plt.switch_backend(\"nbagg\")"
   ]
  },
  {
   "cell_type": "markdown",
   "metadata": {},
   "source": [
    "### Finite - Element solution"
   ]
  },
  {
   "cell_type": "code",
   "execution_count": null,
   "metadata": {
    "collapsed": false
   },
   "outputs": [],
   "source": [
    "# ---------------------------------------------------------------\n",
    "# Initialization of setup\n",
    "# ---------------------------------------------------------------\n",
    "nx = 20              # Number of boundary points\n",
    "u  = np.zeros(nx)    # Solution vector \n",
    "f  = np.zeros(nx)    # Source vector \n",
    "mu = 1               # Constant shear modulus \n",
    "\n",
    "# Element boundary points\n",
    "x = np.linspace(0, 1, nx)  # x in [0,1]\n",
    "h = x[2] - x[1]            # Constant element size\n",
    "\n",
    "# ---------------------------------------------------------------\n",
    "# Assemble stiffness matrix K_ij (Eq 6.30)\n",
    "# ---------------------------------------------------------------\n",
    "K = np.zeros((nx, nx))\n",
    "for i in range(1, nx-1):\n",
    "    for j in range(1, nx-1):\n",
    "        if i == j:\n",
    "            K[i, j] = 2*mu/h\n",
    "        elif i == j + 1:\n",
    "            K[i, j] = -mu/h\n",
    "        elif i + 1 == j:\n",
    "            K[i, j] = -mu/h\n",
    "        else:\n",
    "            K[i, j] = 0\n",
    "\n",
    "# ---------------------------------------------------------------\n",
    "# Souce term is a spike at i = 3*nx/4\n",
    "f[int(3*nx/4)] = 1\n",
    "\n",
    "# Boundary condition at x = 0\n",
    "u[0] = 0.15 ; f[1] = u[0]/h\n",
    "\n",
    "# Boundary condition at x = 1\n",
    "u[nx-1] = 0.05 ; f[nx-2] = u[nx-1]/h\n",
    "\n",
    "# ---------------------------------------------------------------\n",
    "# Finite element solution. (Eq 6.19)\n",
    "# ---------------------------------------------------------------\n",
    "u[1:nx-1] = np.linalg.inv(K[1:nx-1, 1:nx-1]) @ np.transpose(f[1:nx-1]) \n",
    "\n",
    "# ---------------------------------------------------------------\n",
    "# Plotting section\n",
    "# ---------------------------------------------------------------\n",
    "xfe = u \n",
    "plt.plot(x, xfe, color='r', lw=2, label='Finite elements')\n",
    "plt.title('Static Elasticity', size=16)\n",
    "plt.ylabel('Displacement $u(x)$', size=16)\n",
    "plt.xlabel('Position $x$', size=16)\n",
    "plt.axis([0, 1, 0.04, .28])\n",
    "plt.legend()\n",
    "plt.grid(True)\n",
    "plt.show()"
   ]
  },
  {
   "cell_type": "markdown",
   "metadata": {},
   "source": [
    "### Finite - Difference solution"
   ]
  },
  {
   "cell_type": "code",
   "execution_count": null,
   "metadata": {
    "code_folding": [],
    "collapsed": false
   },
   "outputs": [],
   "source": [
    "# Poisson's equation with relaxation method\n",
    "# ---------------------------------------------------------------\n",
    "nt = 500     # Number of time steps\n",
    "iplot = 20   # Snapshot frequency\n",
    "\n",
    "# non-zero boundary conditions\n",
    "u  = np.zeros(nx)   # set u to zero\n",
    "du = np.zeros(nx)   # du/dx\n",
    "f  = np.zeros(nx)   # forcing\n",
    "\n",
    "f[int(3*nx/4)] = 1./h\n",
    "\n",
    "xfd = np.arange(0, nx)*h\n",
    "\n",
    "# ---------------------------------------------------------------\n",
    "# Initialize animated plot\n",
    "# ---------------------------------------------------------------\n",
    "plt.figure(figsize=(8,6))\n",
    "\n",
    "line1 = plt.plot(x, xfe, color='r', lw=2, label='FE') \n",
    "line2 = plt.plot(xfd, u, color='k', ls='-.', label='FD relaxation')\n",
    "plt.title('Static Elasticity with relaxation method', size=16)\n",
    "plt.ylabel('Displacement, $u$', size=16)\n",
    "plt.xlabel('Position, $x$', size=16)\n",
    "plt.legend(loc=4)\n",
    "plt.grid(True)\n",
    "\n",
    "plt.ion()   # set interective mode\n",
    "plt.show()\n",
    "# ---------------------------------------------------------------\n",
    "for it in range(nt):\n",
    "    # Calculate the average of u (omit boundaries)\n",
    "    for i in range(1, nx-1):\n",
    "        du[i] =u [i+1] + u[i-1]\n",
    "    u = 0.5*( f*h**2/mu + du )\n",
    "    u[0] = 0.15    # Boundary condition at x=0\n",
    "    u[nx-1] = 0.05 # Boundary condition at x=1\n",
    "    fd = u\n",
    "    \n",
    "    # --------------------------------------   \n",
    "    # Animation plot. Display both solutions\n",
    "    if not it % iplot:\n",
    "        for l in line2:\n",
    "            l.remove()\n",
    "            del l        \n",
    "        line1 = plt.plot(x, xfe, color='r', lw=2)\n",
    "        line2 = plt.plot(xfd, fd, color='k', ls='-.')\n",
    "        plt.gcf().canvas.draw()    "
   ]
  },
  {
   "cell_type": "code",
   "execution_count": null,
   "metadata": {
    "collapsed": true
   },
   "outputs": [],
   "source": []
  }
 ],
 "metadata": {
  "kernelspec": {
   "display_name": "Python 3",
   "language": "python",
   "name": "python3"
  },
  "language_info": {
   "codemirror_mode": {
    "name": "ipython",
    "version": 3
   },
   "file_extension": ".py",
   "mimetype": "text/x-python",
   "name": "python",
   "nbconvert_exporter": "python",
   "pygments_lexer": "ipython3",
   "version": "3.5.2"
  }
 },
 "nbformat": 4,
 "nbformat_minor": 0
}
